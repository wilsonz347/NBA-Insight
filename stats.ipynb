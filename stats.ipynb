{
 "cells": [
  {
   "cell_type": "code",
   "id": "initial_id",
   "metadata": {
    "collapsed": true,
    "ExecuteTime": {
     "end_time": "2025-01-03T19:28:36.178785Z",
     "start_time": "2025-01-03T19:28:34.097775Z"
    }
   },
   "source": "from nba_api.stats.endpoints import playercareerstats",
   "outputs": [],
   "execution_count": 1
  },
  {
   "metadata": {
    "ExecuteTime": {
     "end_time": "2025-01-03T19:28:36.331043Z",
     "start_time": "2025-01-03T19:28:36.194944Z"
    }
   },
   "cell_type": "code",
   "source": [
    "def get_career_stats_headers():\n",
    "  # Fetches stats headers from the API\n",
    "\n",
    "  career_stats = playercareerstats.PlayerCareerStats(player_id='0') \n",
    "  career_info = career_stats.get_dict() \n",
    "  headers = career_info['resultSets'][0]['headers']\n",
    "\n",
    "  for index, header in enumerate(headers):\n",
    "    print(f\"{index}: {header}\")\n",
    "\n",
    "get_career_stats_headers() "
   ],
   "id": "def2c5eb50faae34",
   "outputs": [
    {
     "name": "stdout",
     "output_type": "stream",
     "text": [
      "0: PLAYER_ID\n",
      "1: SEASON_ID\n",
      "2: LEAGUE_ID\n",
      "3: TEAM_ID\n",
      "4: TEAM_ABBREVIATION\n",
      "5: PLAYER_AGE\n",
      "6: GP\n",
      "7: GS\n",
      "8: MIN\n",
      "9: FGM\n",
      "10: FGA\n",
      "11: FG_PCT\n",
      "12: FG3M\n",
      "13: FG3A\n",
      "14: FG3_PCT\n",
      "15: FTM\n",
      "16: FTA\n",
      "17: FT_PCT\n",
      "18: OREB\n",
      "19: DREB\n",
      "20: REB\n",
      "21: AST\n",
      "22: STL\n",
      "23: BLK\n",
      "24: TOV\n",
      "25: PF\n",
      "26: PTS\n"
     ]
    }
   ],
   "execution_count": 2
  },
  {
   "metadata": {
    "ExecuteTime": {
     "end_time": "2025-01-03T19:28:36.692932Z",
     "start_time": "2025-01-03T19:28:36.679618Z"
    }
   },
   "cell_type": "code",
   "source": [
    "def get_crucial_stats(pid, season=None):\n",
    "  # Fetches and prints crucial NBA player statistics for a given player and season.\n",
    "\n",
    "  for season_data in playercareerstats.PlayerCareerStats(player_id=pid).get_dict()['resultSets'][0]['rowSet']:\n",
    "    if season and season_data[1] != season: \n",
    "      continue  \n",
    "\n",
    "    print(f\"Season: {season_data[1]}\")\n",
    "    print(f\"Points: {season_data[26]}\") \n",
    "    print(f\"Rebounds: {season_data[20]}\") \n",
    "    print(f\"Assists: {season_data[21]}\")  \n",
    "    print(f\"Steals: {season_data[22]}\")  \n",
    "    print(f\"Blocks: {season_data[23]}\")  \n",
    "    print(f\"FG%: {season_data[11]:.3f}\")  \n",
    "    print(f\"3P%: {season_data[14]:.3f}\")  \n",
    "    print(f\"FT%: {season_data[17]:.3f}\")  \n",
    "    print(\"\\n\") "
   ],
   "id": "6a7792b9560992b3",
   "outputs": [],
   "execution_count": 3
  },
  {
   "metadata": {
    "ExecuteTime": {
     "end_time": "2025-01-03T19:28:36.842819Z",
     "start_time": "2025-01-03T19:28:36.721442Z"
    }
   },
   "cell_type": "code",
   "source": [
    "player_id = '2544'  # LeBron James\n",
    "get_crucial_stats(player_id, season=\"2024-25\") "
   ],
   "id": "f2591f14ff307f04",
   "outputs": [
    {
     "name": "stdout",
     "output_type": "stream",
     "text": [
      "Season: 2024-25\n",
      "Points: 718\n",
      "Rebounds: 227\n",
      "Assists: 267\n",
      "Steals: 23\n",
      "Blocks: 18\n",
      "FG%: 0.502\n",
      "3P%: 0.382\n",
      "FT%: 0.767\n",
      "\n",
      "\n"
     ]
    }
   ],
   "execution_count": 4
  },
  {
   "metadata": {
    "ExecuteTime": {
     "end_time": "2025-01-03T19:28:36.893005Z",
     "start_time": "2025-01-03T19:28:36.882790Z"
    }
   },
   "cell_type": "code",
   "source": "",
   "id": "bda9e8046b260e22",
   "outputs": [],
   "execution_count": null
  }
 ],
 "metadata": {
  "kernelspec": {
   "display_name": "Python 3",
   "language": "python",
   "name": "python3"
  },
  "language_info": {
   "codemirror_mode": {
    "name": "ipython",
    "version": 2
   },
   "file_extension": ".py",
   "mimetype": "text/x-python",
   "name": "python",
   "nbconvert_exporter": "python",
   "pygments_lexer": "ipython2",
   "version": "2.7.6"
  }
 },
 "nbformat": 4,
 "nbformat_minor": 5
}
